{
 "cells": [
  {
   "cell_type": "markdown",
   "metadata": {},
   "source": [
    "# Signal-to-noise ratio analysis for exams"
   ]
  },
  {
   "cell_type": "code",
   "execution_count": 55,
   "metadata": {},
   "outputs": [],
   "source": [
    "from __future__ import division, print_function\n",
    "\n",
    "import os\n",
    "\n",
    "from scipy.io import loadmat, savemat\n",
    "\n",
    "import numpy as np\n",
    "\n",
    "from joblib import Parallel, delayed"
   ]
  },
  {
   "cell_type": "code",
   "execution_count": null,
   "metadata": {},
   "outputs": [],
   "source": [
    "path = \"media/pedrosergiot/Windows/Users/pedro_000/Documents/Livros/PPGEL/Projeto_HD/Dados Pedro/Com_Remocao_Artefato\""
   ]
  },
  {
   "cell_type": "code",
   "execution_count": 45,
   "metadata": {},
   "outputs": [],
   "source": [
    "exame = loadmat(\"/media/pedrosergiot/Windows/Users/pedro_000/Documents/Livros/PPGEL/\" + \n",
    "                \"Projeto_HD/Dados Pedro/todos_exames/AnaClara3_05_2k_Pedro2/exame_1.mat\")"
   ]
  },
  {
   "cell_type": "code",
   "execution_count": 46,
   "metadata": {},
   "outputs": [
    {
     "data": {
      "text/plain": [
       "dict_keys(['__header__', '__version__', '__globals__', 'ladoAT', 'contaJanelaTOTAL', 'dadosSinal', 'in_at_esq', 'in_at_dir', 'dadosREJEICAO', 'resultados'])"
      ]
     },
     "execution_count": 46,
     "metadata": {},
     "output_type": "execute_result"
    }
   ],
   "source": [
    "exame.keys()"
   ]
  },
  {
   "cell_type": "code",
   "execution_count": 47,
   "metadata": {},
   "outputs": [
    {
     "data": {
      "text/plain": [
       "(6144, 20)"
      ]
     },
     "execution_count": 47,
     "metadata": {},
     "output_type": "execute_result"
    }
   ],
   "source": [
    "exame['dadosSinal'].shape"
   ]
  },
  {
   "cell_type": "code",
   "execution_count": 48,
   "metadata": {},
   "outputs": [
    {
     "data": {
      "text/plain": [
       "(7168, 20)"
      ]
     },
     "execution_count": 48,
     "metadata": {},
     "output_type": "execute_result"
    }
   ],
   "source": [
    "exame['dadosREJEICAO'].shape"
   ]
  },
  {
   "cell_type": "code",
   "execution_count": 42,
   "metadata": {},
   "outputs": [
    {
     "data": {
      "text/plain": [
       "array([[2]], dtype=uint8)"
      ]
     },
     "execution_count": 42,
     "metadata": {},
     "output_type": "execute_result"
    }
   ],
   "source": [
    "exame['ladoAT']"
   ]
  },
  {
   "cell_type": "code",
   "execution_count": 51,
   "metadata": {},
   "outputs": [
    {
     "name": "stdout",
     "output_type": "stream",
     "text": [
      "dict_keys(['__header__', '__version__', '__globals__', 'k_elet_esq1', 'k_elet_dir1', 'contaJanelaTOTAL', 'dadosSinal', 'dadosREJEICAO'])\n",
      "(20480, 20)\n",
      "(23552, 20)\n"
     ]
    }
   ],
   "source": [
    "exame = loadmat(\"/media/pedrosergiot/Windows/Users/pedro_000/Documents/Livros/PPGEL/\" + \n",
    "                \"Projeto_HD/Dados Pedro/todos_exames/AnaClara3_05_2k_Pedro2/dadosBasais.mat\")\n",
    "                \n",
    "print(exame.keys())\n",
    "print(exame['dadosSinal'].shape)\n",
    "print(exame['dadosREJEICAO'].shape)"
   ]
  },
  {
   "cell_type": "markdown",
   "metadata": {},
   "source": [
    "Usar sempre dadosREIJEICAO, pois esses nao sofreram alteracoes devido a remocao de artefato"
   ]
  },
  {
   "cell_type": "markdown",
   "metadata": {},
   "source": [
    "Atencao = 1 -> Direita / Atencao = 2 -> Esquerda"
   ]
  },
  {
   "cell_type": "code",
   "execution_count": 58,
   "metadata": {},
   "outputs": [],
   "source": [
    "path = \"/media/pedrosergiot/Windows/Users/pedro_000/Documents/Livros/PPGEL/Projeto_HD/Dados Pedro/todos_exames/\"\n",
    "\n",
    "sessions_list = os.listdir(path)\n",
    "\n",
    "exams = []\n",
    "target  = []\n",
    "base_exams = []\n",
    "\n",
    "for session in sessions_list:\n",
    "    \n",
    "    exam0 = loadmat(path + session + \"/exame_0.mat\")\n",
    "    exam1 = loadmat(path + session + \"/exame_1.mat\")\n",
    "    base = loadmat(path + session + \"/dadosBasais.mat\")\n",
    "    \n",
    "    # descarta aproximadamente o primeiro segundo de sinal para evitar o transitorio\n",
    "    exams.append(exam0['dadosREJEICAO'][10*64:6144, 0:19]) #retira as 10 primeiras janenas de 64 pontos\n",
    "    target.append(exam0['ladoAT'])\n",
    "    exams.append(exam1['dadosREJEICAO'][10*64:6144, 0:19]) #retira as 10 primeiras janelas de 64 pontos\n",
    "    target.append(exam1['ladoAT'])\n",
    "    \n",
    "    base_exams.append(base['dadosREJEICAO'][10*64:6144, 0:19]) #retira as 10 primeiras janelas de 64 pontos\n",
    "    \n",
    "exams = np.asarray(exams)\n",
    "target = np.asarray(target)\n",
    "base_exams = np.asarray(base_exams)\n",
    "\n",
    "savemat('exames_sem1segundo.mat',{'exams':exams, 'target':target})\n",
    "savemat('base_exames_sem1segundo.mat',{'base_exams':base_exams})"
   ]
  },
  {
   "cell_type": "code",
   "execution_count": 57,
   "metadata": {},
   "outputs": [
    {
     "data": {
      "text/plain": [
       "(288, 5504, 19)"
      ]
     },
     "execution_count": 57,
     "metadata": {},
     "output_type": "execute_result"
    }
   ],
   "source": [
    "exams.shape"
   ]
  }
 ],
 "metadata": {
  "kernelspec": {
   "display_name": "Python 3",
   "language": "python",
   "name": "python3"
  },
  "language_info": {
   "codemirror_mode": {
    "name": "ipython",
    "version": 3
   },
   "file_extension": ".py",
   "mimetype": "text/x-python",
   "name": "python",
   "nbconvert_exporter": "python",
   "pygments_lexer": "ipython3",
   "version": "3.7.3"
  }
 },
 "nbformat": 4,
 "nbformat_minor": 2
}
